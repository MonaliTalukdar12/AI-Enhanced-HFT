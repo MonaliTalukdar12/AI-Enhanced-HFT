{
 "cells": [
  {
   "cell_type": "markdown",
   "id": "9c90551f",
   "metadata": {},
   "source": [
    "# Setup iniziale, import e caricamento dati"
   ]
  },
  {
   "cell_type": "code",
   "execution_count": null,
   "id": "8620d14d",
   "metadata": {},
   "outputs": [],
   "source": [
    "# IMPORT LIBRERIE\n",
    "import pandas as pd\n",
    "import numpy as np\n",
    "import matplotlib.pyplot as plt\n",
    "import seaborn as sns\n",
    "from sklearn.preprocessing import StandardScaler\n",
    "from sklearn.model_selection import train_test_split\n",
    "from sklearn.metrics import classification_report, confusion_matrix\n",
    "import joblib\n",
    "import xgboost as xgb\n",
    "\n",
    "# CARICA I DATI\n",
    "filename = \"XAG_H1_exp.csv\"\n",
    "df = pd.read_csv(filename, sep='\\t', parse_dates=['Time'])\n",
    "\n",
    "# ESPLORAZIONE INIZIALE\n",
    "print(df.head())\n",
    "print(df.info())\n",
    "print(df.describe())\n",
    "print(df.isnull().sum())\n",
    "\n",
    "# PLOT: Correlazione\n",
    "plt.figure(figsize=(10, 8))\n",
    "sns.heatmap(df.corr(numeric_only=True), annot=True, fmt=\".2f\", cmap='coolwarm')\n",
    "plt.title(\"Heatmap delle Correlazioni\")\n",
    "plt.tight_layout()\n",
    "plt.savefig(\"correlation_heatmap.png\")\n",
    "plt.show()\n",
    "\n",
    "# PLOT: Prezzo & EMA\n",
    "plt.figure(figsize=(14, 6))\n",
    "plt.plot(df['Time'], df['Close'], label='Close')\n",
    "plt.plot(df['Time'], df['EMA_Fast'], label='EMA Fast (7)')\n",
    "plt.plot(df['Time'], df['EMA_Slow'], label='EMA Slow (21)')\n",
    "plt.title(\"Close & EMA nel Tempo\")\n",
    "plt.xlabel(\"Time\")\n",
    "plt.ylabel(\"Price\")\n",
    "plt.legend()\n",
    "plt.tight_layout()\n",
    "plt.savefig(\"price_ema_plot.png\")\n",
    "plt.show()\n"
   ]
  },
  {
   "cell_type": "markdown",
   "id": "da87a4fc",
   "metadata": {},
   "source": [
    "# Creazione Target + Feature Engineering + Scaler"
   ]
  },
  {
   "cell_type": "code",
   "execution_count": null,
   "id": "3aaf0b75",
   "metadata": {},
   "outputs": [],
   "source": [
    "# CREAZIONE TARGET BINARIO: Trend UP = 1 se Close_future > Close + soglia\n",
    "n_shift = 3\n",
    "threshold = 0.0003\n",
    "\n",
    "df['Close_future'] = df['Close'].shift(-n_shift)\n",
    "df['target'] = (df['Close_future'] > df['Close'] + threshold).astype(int)\n",
    "df.drop(columns=['Close_future'], inplace=True)\n",
    "\n",
    "# FEATURE ENGINEERING\n",
    "df['EMA_diff'] = df['EMA_Fast'] - df['EMA_Slow']\n",
    "df['Close_pct_change'] = df['Close'].pct_change()\n",
    "df['Volume_pct_change'] = df['Volume'].pct_change()\n",
    "df['ADX_delta'] = df['ADX'].diff()\n",
    "df['Volume_delta'] = df['Volume'].diff()\n",
    "df['ADX_roll_std3'] = df['ADX'].rolling(window=3).std()\n",
    "df['Volume_roll_std3'] = df['Volume'].rolling(window=3).std()\n",
    "\n",
    "# RIMOZIONE NaN\n",
    "df.dropna(inplace=True)\n",
    "print(\"Dati pronti. Dimensione finale:\", df.shape)\n",
    "\n",
    "# === SCALING DELLE FEATURE\n",
    "target_col = 'target'\n",
    "feature_cols = [col for col in df.columns if col not in [target_col, 'Time']]\n",
    "\n",
    "scaler = StandardScaler()\n",
    "df[feature_cols] = scaler.fit_transform(df[feature_cols])\n",
    "\n",
    "# Salvataggio scaler per uso futuro (forecast)\n",
    "joblib.dump(scaler, \"scaler_randomforest.save\")\n",
    "print(\"Scaler salvato come scaler_randomforest.save\")\n",
    "\n",
    "# Salva dataset per training o backup\n",
    "df.to_csv(\"randomforest_ready_dataset.csv\", index=False)\n"
   ]
  },
  {
   "cell_type": "markdown",
   "id": "0e409f1d",
   "metadata": {},
   "source": [
    "# Train/test split, training modello "
   ]
  },
  {
   "cell_type": "code",
   "execution_count": null,
   "id": "c4abb0c7",
   "metadata": {},
   "outputs": [],
   "source": [
    "# SPLIT FEATURE / TARGET\n",
    "target_col = 'target'\n",
    "feature_cols = [col for col in df.columns if col not in [target_col, 'Time']]\n",
    "\n",
    "\n",
    "X = df[feature_cols]\n",
    "y = df[target_col]\n",
    "\n",
    "# SPLIT TRAIN/TEST\n",
    "X_train, X_test, y_train, y_test = train_test_split(\n",
    "    X, y,\n",
    "    test_size=0.25,\n",
    "    random_state=42,\n",
    "    stratify=y\n",
    ")\n",
    "\n",
    "print(f\"Distribuzione train: {np.bincount(y_train)}\")\n",
    "print(f\"Distribuzione test: {np.bincount(y_test)}\")\n"
   ]
  },
  {
   "cell_type": "markdown",
   "id": "d9d599b0",
   "metadata": {},
   "source": [
    "# Addestramento Random Forest Base"
   ]
  },
  {
   "cell_type": "code",
   "execution_count": null,
   "id": "f3758b1c",
   "metadata": {},
   "outputs": [],
   "source": [
    "from sklearn.ensemble import RandomForestClassifier\n",
    "\n",
    "# MODELLO BASE\n",
    "model = RandomForestClassifier(\n",
    "    n_estimators=100,\n",
    "    random_state=42,\n",
    "    n_jobs=-1\n",
    ")\n",
    "\n",
    "# TRAINING\n",
    "model.fit(X_train, y_train)\n",
    "\n",
    "# VALUTAZIONE\n",
    "y_pred = model.predict(X_test)\n",
    "print(\"Confusion Matrix:\")\n",
    "print(confusion_matrix(y_test, y_pred))\n",
    "print(\"\\nClassification Report:\")\n",
    "print(classification_report(y_test, y_pred))\n",
    "\n",
    "# SALVATAGGIO\n",
    "joblib.dump(model, \"random_forest_trend_model.pkl\")\n",
    "print(\"Modello salvato come random_forest_trend_model.pkl\")\n"
   ]
  },
  {
   "cell_type": "code",
   "execution_count": null,
   "id": "5dbb9ba1",
   "metadata": {},
   "outputs": [],
   "source": [
    "import seaborn as sns\n",
    "import matplotlib.pyplot as plt\n",
    "from sklearn.metrics import confusion_matrix\n",
    "\n",
    "cm = confusion_matrix(y_test, y_pred)\n",
    "plt.figure(figsize=(6, 5))\n",
    "sns.heatmap(cm, annot=True, fmt=\"d\", cmap=\"Blues\", xticklabels=['No Uptrend', 'Uptrend'], yticklabels=['No Uptrend', 'Uptrend'])\n",
    "plt.xlabel(\"Predicted Label\")\n",
    "plt.ylabel(\"True Label\")\n",
    "plt.title(\"Confusion Matrix - Random Forest\")\n",
    "plt.tight_layout()\n",
    "plt.savefig(\"rf_confusion_matrix.png\")\n",
    "plt.show()\n"
   ]
  }
 ],
 "metadata": {
  "kernelspec": {
   "display_name": "trading_ai",
   "language": "python",
   "name": "python3"
  },
  "language_info": {
   "codemirror_mode": {
    "name": "ipython",
    "version": 3
   },
   "file_extension": ".py",
   "mimetype": "text/x-python",
   "name": "python",
   "nbconvert_exporter": "python",
   "pygments_lexer": "ipython3",
   "version": "3.10.18"
  }
 },
 "nbformat": 4,
 "nbformat_minor": 5
}
