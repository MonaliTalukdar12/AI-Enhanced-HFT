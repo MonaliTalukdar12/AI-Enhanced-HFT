{
 "cells": [
  {
   "cell_type": "markdown",
   "id": "b2eeb628",
   "metadata": {},
   "source": [
    "# Import"
   ]
  },
  {
   "cell_type": "code",
   "execution_count": null,
   "id": "b0fdcedc",
   "metadata": {},
   "outputs": [],
   "source": [
    "import pandas as pd\n",
    "import matplotlib.pyplot as plt\n",
    "import seaborn as sns\n",
    "import numpy as np\n",
    "from sklearn.preprocessing import StandardScaler\n",
    "from sklearn.model_selection import train_test_split\n",
    "import joblib\n",
    "import tensorflow as tf\n",
    "from tensorflow.keras.models import Sequential\n",
    "from tensorflow.keras.layers import LSTM, Dense, Dropout\n",
    "from tensorflow.keras.callbacks import EarlyStopping\n",
    "from sklearn.metrics import classification_report, confusion_matrix"
   ]
  },
  {
   "cell_type": "markdown",
   "id": "ea036946",
   "metadata": {},
   "source": [
    "# EDA & VISUALIZATION"
   ]
  },
  {
   "cell_type": "code",
   "execution_count": null,
   "id": "f4149402",
   "metadata": {},
   "outputs": [],
   "source": [
    "filename = \"XAG_H1_exp.csv\"\n",
    "df = pd.read_csv(filename, sep='\\t', parse_dates=['Time'])\n",
    "\n",
    "print(df.head())\n",
    "print(df.info())\n",
    "print(df.describe())\n",
    "print(df.isnull().sum())\n",
    "\n",
    "plt.figure(figsize=(10, 8))\n",
    "sns.heatmap(df.corr(numeric_only=True), annot=True, fmt=\".2f\", cmap='coolwarm')\n",
    "plt.title(\"Heatmap Correlazioni tra feature\")\n",
    "plt.tight_layout()\n",
    "plt.savefig(\"correlation_heatmap.png\")\n",
    "plt.show()\n",
    "\n",
    "plt.figure(figsize=(14, 6))\n",
    "plt.plot(df['Time'], df['Close'], label='Close Price')\n",
    "plt.plot(df['Time'], df['EMA_Fast'], label='EMA Fast (7)')\n",
    "plt.plot(df['Time'], df['EMA_Slow'], label='EMA Slow (21)')\n",
    "plt.title(\"Prezzo Close e EMA nel tempo\")\n",
    "plt.xlabel(\"Time\")\n",
    "plt.ylabel(\"Price\")\n",
    "plt.legend()\n",
    "plt.tight_layout()\n",
    "plt.savefig(\"price_ema_plot.png\")\n",
    "plt.show()"
   ]
  },
  {
   "cell_type": "markdown",
   "id": "54642af3",
   "metadata": {},
   "source": [
    "# LABEL CREATION"
   ]
  },
  {
   "cell_type": "code",
   "execution_count": null,
   "id": "b2614038",
   "metadata": {},
   "outputs": [],
   "source": [
    "n_shift = 1\n",
    "threshold_up = 0.0001\n",
    "threshold_down = 0.0001\n",
    "\n",
    "df['Close_future'] = df['Close'].shift(-n_shift)\n",
    "df['diff'] = df['Close_future'] - df['Close']\n",
    "\n",
    "def label_trend_binary(x):\n",
    "    if x > threshold_up:\n",
    "        return 1\n",
    "    elif x < -threshold_down:\n",
    "        return -1\n",
    "    else:\n",
    "        return np.nan\n",
    "\n",
    "df['trend'] = df['diff'].apply(label_trend_binary)\n",
    "df.dropna(subset=['Close_future', 'trend'], inplace=True)\n",
    "\n",
    "print(\"Distribuzione classi trend:\")\n",
    "print(df['trend'].value_counts(normalize=True) * 100)"
   ]
  },
  {
   "cell_type": "markdown",
   "id": "e49f580d",
   "metadata": {},
   "source": [
    "# Preparazione dati sequenziali e scaling per modello LSTM"
   ]
  },
  {
   "cell_type": "code",
   "execution_count": null,
   "id": "9324ac81",
   "metadata": {},
   "outputs": [],
   "source": [
    "df['EMA_diff'] = df['EMA_Fast'] - df['EMA_Slow']\n",
    "df['Close_pct_change'] = df['Close'].pct_change()\n",
    "df['Volume_pct_change'] = df['Volume'].pct_change()\n",
    "df['ADX_delta'] = df['ADX'].diff()\n",
    "df['Volume_delta'] = df['Volume'].diff()\n",
    "\n",
    "df['ADX_roll_std3'] = df['ADX'].rolling(window=3).std()\n",
    "df['Volume_roll_std3'] = df['Volume'].rolling(window=3).std()\n",
    "\n",
    "df.dropna(inplace=True)\n",
    "df.to_csv(\"lstm_ready_dataset.csv\", index=False)"
   ]
  },
  {
   "cell_type": "markdown",
   "id": "09b2cbfb",
   "metadata": {},
   "source": [
    "# SEQUENCE BUILDING"
   ]
  },
  {
   "cell_type": "code",
   "execution_count": null,
   "id": "94da1ca8",
   "metadata": {},
   "outputs": [],
   "source": [
    "sequence_length = 20\n",
    "test_size = 0.15\n",
    "val_size = 0.15\n",
    "\n",
    "feature_cols = [\n",
    "    'Open', 'High', 'Low', 'Close', 'Volume',\n",
    "    'EMA_Fast', 'EMA_Slow', 'ADX', 'EMA_diff',\n",
    "    'Close_pct_change', 'Volume_pct_change',\n",
    "    'ADX_delta', 'Volume_delta',\n",
    "    'ADX_roll_std3', 'Volume_roll_std3'\n",
    "]\n",
    "\n",
    "scaler = StandardScaler()\n",
    "df_scaled = scaler.fit_transform(df[feature_cols])\n",
    "y_raw = df['trend'].values\n",
    "\n",
    "def create_sequences(X, y, seq_length):\n",
    "    Xs, ys = [], []\n",
    "    for i in range(len(X) - seq_length):\n",
    "        Xs.append(X[i:i+seq_length])\n",
    "        ys.append(y[i+seq_length])\n",
    "    return np.array(Xs), np.array(ys)\n",
    "\n",
    "X, y = create_sequences(df_scaled, y_raw, sequence_length)\n",
    "\n",
    "X_train, X_temp, y_train, y_temp = train_test_split(X, y, test_size=test_size+val_size, stratify=y, random_state=42)\n",
    "val_ratio = val_size / (test_size + val_size)\n",
    "X_val, X_test, y_val, y_test = train_test_split(X_temp, y_temp, test_size=val_ratio, stratify=y_temp, random_state=42)\n",
    "\n",
    "print(f\"Train: {len(X_train)} - Val: {len(X_val)} - Test: {len(X_test)}\")\n",
    "\n",
    "joblib.dump(scaler, 'scaler_lstm.save')"
   ]
  },
  {
   "cell_type": "markdown",
   "id": "8c71e093",
   "metadata": {},
   "source": [
    "# LSTM MODEL TRAINING"
   ]
  },
  {
   "cell_type": "code",
   "execution_count": null,
   "id": "c407d9c5",
   "metadata": {},
   "outputs": [],
   "source": [
    "input_shape = (X_train.shape[1], X_train.shape[2])\n",
    "\n",
    "model = Sequential([\n",
    "    LSTM(64, return_sequences=True, input_shape=input_shape),\n",
    "    Dropout(0.2),\n",
    "    LSTM(32),\n",
    "    Dropout(0.2),\n",
    "    Dense(32, activation='relu'),\n",
    "    Dense(1, activation='tanh')  # Output: regressione tra -1 e 1\n",
    "])\n",
    "\n",
    "model.compile(optimizer='adam', loss='hinge', metrics=['accuracy'])\n",
    "model.summary()\n",
    "\n",
    "early_stop = EarlyStopping(monitor='val_loss', patience=5, restore_best_weights=True)\n",
    "history = model.fit(X_train, y_train, validation_data=(X_val, y_val),\n",
    "                    epochs=50, batch_size=64, callbacks=[early_stop])\n",
    "\n",
    "test_loss, test_acc = model.evaluate(X_test, y_test)\n",
    "print(f\"\\nTest accuracy: {test_acc:.4f}\")\n",
    "\n",
    "model.save('lstm_trend_model.h5')\n",
    "print(\"Modello salvato.\")"
   ]
  },
  {
   "cell_type": "markdown",
   "id": "c184733b",
   "metadata": {},
   "source": [
    "# Evaluation Report"
   ]
  },
  {
   "cell_type": "code",
   "execution_count": null,
   "id": "7e1f85b5",
   "metadata": {},
   "outputs": [],
   "source": [
    "y_pred_raw = model.predict(X_test).flatten()\n",
    "y_pred = np.where(y_pred_raw > 0, 1, -1)  # tanh threshold\n",
    "\n",
    "print(confusion_matrix(y_test, y_pred))\n",
    "print(classification_report(y_test, y_pred, digits=4))"
   ]
  },
  {
   "cell_type": "code",
   "execution_count": null,
   "id": "82afb576",
   "metadata": {},
   "outputs": [],
   "source": [
    "import seaborn as sns\n",
    "import matplotlib.pyplot as plt\n",
    "from sklearn.metrics import confusion_matrix\n",
    "\n",
    "# Genera la confusion matrix\n",
    "cm = confusion_matrix(y_test, y_pred)\n",
    "\n",
    "# Crea il plot\n",
    "plt.figure(figsize=(6, 5))\n",
    "sns.heatmap(cm, annot=True, fmt=\"d\", cmap=\"Blues\", xticklabels=['No Uptrend', 'Uptrend'], yticklabels=['No Uptrend', 'Uptrend'])\n",
    "plt.xlabel(\"Predicted Label\")\n",
    "plt.ylabel(\"True Label\")\n",
    "plt.title(\"Confusion Matrix - LSTM\")\n",
    "\n",
    "# Salva e mostra il grafico\n",
    "plt.tight_layout()\n",
    "plt.savefig(\"lstm_confusion_matrix.png\")\n",
    "plt.show()\n"
   ]
  }
 ],
 "metadata": {
  "kernelspec": {
   "display_name": "trading_ai",
   "language": "python",
   "name": "python3"
  },
  "language_info": {
   "codemirror_mode": {
    "name": "ipython",
    "version": 3
   },
   "file_extension": ".py",
   "mimetype": "text/x-python",
   "name": "python",
   "nbconvert_exporter": "python",
   "pygments_lexer": "ipython3",
   "version": "3.10.18"
  }
 },
 "nbformat": 4,
 "nbformat_minor": 5
}
